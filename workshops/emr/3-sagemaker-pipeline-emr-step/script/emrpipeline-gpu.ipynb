{
 "cells": [
  {
   "cell_type": "markdown",
   "id": "e43fb487-b827-4dec-8cd6-ab45326b9b4e",
   "metadata": {},
   "source": [
    "# Sagemaker Pipeline with EMR Steps\n",
    "\n",
    "Sample code to build sagemaker pipeline to call an EMR Step.\n",
    "\n",
    "Please refer to the following docs for detail: https://docs.aws.amazon.com/sagemaker/latest/dg/build-and-manage-steps-types.html#step-type-emr"
   ]
  },
  {
   "cell_type": "code",
   "execution_count": 1,
   "id": "ae5dbda6-c77b-4b0c-92b9-0cad73a8a207",
   "metadata": {},
   "outputs": [
    {
     "name": "stdout",
     "output_type": "stream",
     "text": [
      "sagemaker.config INFO - Not applying SDK defaults from location: /etc/xdg/sagemaker/config.yaml\n",
      "sagemaker.config INFO - Not applying SDK defaults from location: /home/sagemaker-user/.config/sagemaker/config.yaml\n"
     ]
    }
   ],
   "source": [
    "import os\n",
    "import json\n",
    "\n",
    "import boto3\n",
    "import sagemaker\n",
    "from sagemaker.workflow.pipeline import Pipeline\n",
    "from sagemaker.workflow.pipeline_context import PipelineSession\n",
    "from sagemaker.workflow.parameters import (\n",
    "    ParameterInteger,\n",
    "    ParameterString,\n",
    ")\n",
    "from sagemaker.workflow.emr_step import EMRStep, EMRStepConfig\n",
    "from sagemaker.workflow.pipeline_context import PipelineSession"
   ]
  },
  {
   "cell_type": "code",
   "execution_count": 2,
   "id": "15607a30-6622-483e-aa39-17a45d86f974",
   "metadata": {},
   "outputs": [],
   "source": [
    "# Create the SageMaker Session\n",
    "\n",
    "sagemaker_session = sagemaker.Session()\n",
    "role = sagemaker.get_execution_role()\n",
    "region = sagemaker_session.boto_region_name\n",
    "boto_session = boto3.Session(region_name=region)\n",
    "sagemaker_client = sagemaker_session.sagemaker_client\n",
    "default_bucket = sagemaker_session.default_bucket()\n",
    "\n",
    "\n",
    "account = boto_session.client(\"sts\").get_caller_identity()[\"Account\"]\n",
    "\n",
    "\n",
    "pipeline_session = PipelineSession(\n",
    "    boto_session=boto_session,\n",
    "    sagemaker_client=sagemaker_client,\n",
    "    default_bucket=default_bucket,\n",
    ")"
   ]
  },
  {
   "cell_type": "markdown",
   "id": "6731df3a-c189-41ef-9120-ec58b6ddfed7",
   "metadata": {},
   "source": [
    "## Parameters"
   ]
  },
  {
   "cell_type": "code",
   "execution_count": 3,
   "id": "701fd749-8192-4a6f-8efa-58336080f66e",
   "metadata": {},
   "outputs": [],
   "source": [
    "# Variables for the EMR step\n",
    "\n",
    "pipeline_name = \"MyEMRStepPipeline\"\n",
    "base_job_prefix = \"my-emr-step-pipeline\"\n",
    "\n",
    "\n",
    "job_flow_role = f\"arn:aws:iam::{account}:instance-profile/EMR_EC2_DefaultRole\"\n",
    "service_role = f\"arn:aws:iam::{account}:role/EMR_DefaultRole\""
   ]
  },
  {
   "cell_type": "code",
   "execution_count": 4,
   "id": "80f5a2ca-97dd-4dca-b8b5-9c721b43dd9e",
   "metadata": {},
   "outputs": [],
   "source": [
    "# Define variables and parameters needed for the Pipeline\n",
    "# parameters for pipeline execution\n",
    "\n",
    "script = \"s3://sagemaker-ap-southeast-3-117019135262/emr-step-pipeline/app/preprocess.py\"\n",
    "\n",
    "input_data = ParameterString(\n",
    "    name=\"InputDataUrl\",\n",
    "    default_value=f\"s3://sagemaker-example-files-prod-ap-southeast-1/datasets/tabular/uci_abalone/abalone.csv\",\n",
    ")\n",
    "\n",
    "output_path = f\"s3://{default_bucket}/{base_job_prefix}/prep\""
   ]
  },
  {
   "cell_type": "markdown",
   "id": "957e2577-7e7b-4a85-a7f0-4e5feaa60dca",
   "metadata": {},
   "source": [
    "## RAPIDS Spark GPU Accelerator\n",
    "\n",
    "In this example we are using RAPIDS Spark library to accelerate Spark jobs, based on the parameter described in https://docs.aws.amazon.com/emr/latest/ReleaseGuide/emr-spark-rapids.html"
   ]
  },
  {
   "cell_type": "code",
   "execution_count": 5,
   "id": "b133751e-469d-4acb-af75-4dcea1f2a0f4",
   "metadata": {},
   "outputs": [],
   "source": [
    "rapids_configurations = [\n",
    "    {\n",
    "        \"Classification\":\"spark\",\n",
    "        \"Properties\":{\n",
    "            \"enableSparkRapids\":\"true\"\n",
    "        }\n",
    "    },\n",
    "    {\n",
    "        \"Classification\":\"yarn-site\",\n",
    "        \"Properties\":{\n",
    "            \"yarn.nodemanager.resource-plugins\":\"yarn.io/gpu\",\n",
    "            \"yarn.resource-types\":\"yarn.io/gpu\",\n",
    "            \"yarn.nodemanager.resource-plugins.gpu.allowed-gpu-devices\":\"auto\",\n",
    "            \"yarn.nodemanager.resource-plugins.gpu.path-to-discovery-executables\":\"/usr/bin\",\n",
    "            \"yarn.nodemanager.linux-container-executor.cgroups.mount\":\"true\",\n",
    "            \"yarn.nodemanager.linux-container-executor.cgroups.mount-path\":\"/spark-rapids-cgroup\",\n",
    "            \"yarn.nodemanager.linux-container-executor.cgroups.hierarchy\":\"yarn\",\n",
    "            \"yarn.nodemanager.container-executor.class\":\"org.apache.hadoop.yarn.server.nodemanager.LinuxContainerExecutor\"\n",
    "        }\n",
    "    },\n",
    "    {\n",
    "        \"Classification\":\"container-executor\",\n",
    "        \"Properties\":{\n",
    "            \n",
    "        },\n",
    "        \"Configurations\":[\n",
    "            {\n",
    "                \"Classification\":\"gpu\",\n",
    "                \"Properties\":{\n",
    "                    \"module.enabled\":\"true\"\n",
    "                }\n",
    "            },\n",
    "            {\n",
    "                \"Classification\":\"cgroups\",\n",
    "                \"Properties\":{\n",
    "                    \"root\":\"/spark-rapids-cgroup\",\n",
    "                    \"yarn-hierarchy\":\"yarn\"\n",
    "                }\n",
    "            }\n",
    "        ]\n",
    "    },\n",
    "    {\n",
    "        \"Classification\":\"spark-defaults\",\n",
    "        \"Properties\":{\n",
    "            \"spark.plugins\":\"com.nvidia.spark.SQLPlugin\",\n",
    "            \"spark.executor.resource.gpu.discoveryScript\":\"/usr/lib/spark/scripts/gpu/getGpusResources.sh\",\n",
    "            \"spark.executor.extraLibraryPath\":\"/usr/local/cuda/targets/x86_64-linux/lib:/usr/local/cuda/extras/CUPTI/lib64:/usr/local/cuda/compat/lib:/usr/local/cuda/lib:/usr/local/cuda/lib64:/usr/lib/hadoop/lib/native:/usr/lib/hadoop-lzo/lib/native:/docker/usr/lib/hadoop/lib/native:/docker/usr/lib/hadoop-lzo/lib/native\",\n",
    "            \"spark.submit.pyFiles\":\"/usr/lib/spark/jars/xgboost4j-spark_3.0-1.4.2-0.3.0.jar\",\n",
    "            \"spark.rapids.sql.concurrentGpuTasks\":\"1\",\n",
    "            \"spark.executor.resource.gpu.amount\":\"1\",\n",
    "            \"spark.executor.cores\":\"2\",\n",
    "            \"spark.task.cpus\":\"1\",\n",
    "            \"spark.task.resource.gpu.amount\":\"0.5\",\n",
    "            \"spark.rapids.memory.pinnedPool.size\":\"0\",\n",
    "            \"spark.executor.memoryOverhead\":\"2G\",\n",
    "            \"spark.locality.wait\":\"0s\",\n",
    "            \"spark.sql.shuffle.partitions\":\"200\",\n",
    "            \"spark.sql.files.maxPartitionBytes\":\"512m\"\n",
    "        }\n",
    "    },\n",
    "    {\n",
    "        \"Classification\":\"capacity-scheduler\",\n",
    "        \"Properties\":{\n",
    "            \"yarn.scheduler.capacity.resource-calculator\":\"org.apache.hadoop.yarn.util.resource.DominantResourceCalculator\"\n",
    "        }\n",
    "    }\n",
    "]\n"
   ]
  },
  {
   "cell_type": "markdown",
   "id": "f87284ed-4395-45bc-bb1e-ad215a556db7",
   "metadata": {},
   "source": [
    "## Sagemaker Pipeline EMR Step\n",
    "\n",
    "Based on the references in \n",
    "- https://docs.aws.amazon.com/emr/latest/APIReference/API_RunJobFlow.html\n",
    "- https://docs.aws.amazon.com/sagemaker/latest/dg/build-and-manage-steps-types.html#step-type-emr\n",
    "- https://sagemaker.readthedocs.io/en/stable/amazon_sagemaker_model_building_pipeline.html#emrstep\n",
    "- https://github.com/aws/amazon-sagemaker-examples/blob/main/sagemaker-pipelines/tabular/emr-step/sagemaker-pipelines-emr-step-with-cluster-lifecycle-management.ipynb"
   ]
  },
  {
   "cell_type": "code",
   "execution_count": 9,
   "id": "c0701982-8a9e-458c-b2df-e0648fd6f870",
   "metadata": {},
   "outputs": [],
   "source": [
    "# Process the training data step using a PySpark script.\n",
    "# Split the training data set into train, test, and validation datasets\n",
    "# Run as a step as a job flow on EMR\n",
    "emr_config = EMRStepConfig(\n",
    "    jar=\"command-runner.jar\",\n",
    "    args=[\n",
    "        \"spark-submit\",\n",
    "        \"--deploy-mode\",\n",
    "        \"cluster\",\n",
    "        script,\n",
    "        \"--input\",\n",
    "        input_data,\n",
    "        \"--output\",\n",
    "        output_path,\n",
    "    ],\n",
    ")\n",
    "\n",
    "\n",
    "step_emr = EMRStep(\n",
    "    name=\"EMRStep\",\n",
    "    cluster_id=None,\n",
    "    step_config=emr_config,\n",
    "    display_name=\"Preprocess\",\n",
    "    description=\"preprocess data for XGBoost\",\n",
    "    cluster_config={\n",
    "        \"Applications\": [\n",
    "            {\n",
    "                \"Name\": \"Spark\",\n",
    "            }\n",
    "        ],\n",
    "        \"Instances\": {\n",
    "            \"InstanceGroups\": [\n",
    "                {\"InstanceRole\": \"MASTER\", \"InstanceCount\": 1, \"InstanceType\": \"m5.xlarge\"},\n",
    "                {\"InstanceRole\": \"CORE\", \"InstanceCount\": 2, \"InstanceType\": \"g5.xlarge\"},\n",
    "            ]\n",
    "        },\n",
    "        \"BootstrapActions\": [\n",
    "            {\n",
    "                \"Name\": \"Install packages\",\n",
    "                \"ScriptBootstrapAction\": {\n",
    "                    \"Path\": \"s3://emr-test-117019135262/xldemo/service-catalog/bootstrap-emr-script.sh\",\n",
    "                    \"Args\": [\"s3://emr-test-117019135262/xldemo/service-catalog/requirements-numpy.txt\"]\n",
    "                }\n",
    "            },\n",
    "            {\n",
    "                \"Name\": \"RAPIDS bootstrap\",\n",
    "                \"ScriptBootstrapAction\": {\n",
    "                    \"Path\": \"s3://emr-test-117019135262/xldemo/service-catalog/bootstrap-rapids-script.sh\"\n",
    "                }\n",
    "            }\n",
    "        ],\n",
    "        \"ReleaseLabel\": \"emr-7.3.0\",\n",
    "        \"JobFlowRole\": job_flow_role,\n",
    "        \"ServiceRole\": service_role,\n",
    "        \"LogUri\": \"s3://aws-logs-117019135262-ap-southeast-3/elasticmapreduce\"\n",
    "    },\n",
    ")\n"
   ]
  },
  {
   "cell_type": "code",
   "execution_count": 10,
   "id": "95c2921d-afb8-4b8a-a6be-fe4706bfca87",
   "metadata": {},
   "outputs": [],
   "source": [
    "pipeline = Pipeline(\n",
    "    name=pipeline_name,\n",
    "    parameters=[\n",
    "        input_data,\n",
    "    ],\n",
    "    steps=[step_emr],\n",
    "    sagemaker_session=pipeline_session,\n",
    ")\n"
   ]
  },
  {
   "cell_type": "markdown",
   "id": "f8797fef-4994-4168-9c6d-ce03bb92d9de",
   "metadata": {},
   "source": [
    "## Execute the pipeline"
   ]
  },
  {
   "cell_type": "code",
   "execution_count": 11,
   "id": "a813cb65-c3ba-40d8-ac53-faf819b94d2f",
   "metadata": {},
   "outputs": [
    {
     "data": {
      "text/plain": [
       "{'Version': '2020-12-01',\n",
       " 'Metadata': {},\n",
       " 'Parameters': [{'Name': 'InputDataUrl',\n",
       "   'Type': 'String',\n",
       "   'DefaultValue': 's3://sagemaker-example-files-prod-ap-southeast-1/datasets/tabular/uci_abalone/abalone.csv'}],\n",
       " 'PipelineExperimentConfig': {'ExperimentName': {'Get': 'Execution.PipelineName'},\n",
       "  'TrialName': {'Get': 'Execution.PipelineExecutionId'}},\n",
       " 'Steps': [{'Name': 'EMRStep',\n",
       "   'Type': 'EMR',\n",
       "   'Arguments': {'StepConfig': {'HadoopJarStep': {'Jar': 'command-runner.jar',\n",
       "      'Args': ['spark-submit',\n",
       "       '--deploy-mode',\n",
       "       'cluster',\n",
       "       's3://sagemaker-ap-southeast-3-117019135262/emr-step-pipeline/app/preprocess.py',\n",
       "       '--input',\n",
       "       {'Get': 'Parameters.InputDataUrl'},\n",
       "       '--output',\n",
       "       's3://sagemaker-ap-southeast-3-117019135262/my-emr-step-pipeline/prep']}},\n",
       "    'ClusterConfig': {'Applications': [{'Name': 'Spark'}],\n",
       "     'Instances': {'InstanceGroups': [{'InstanceRole': 'MASTER',\n",
       "        'InstanceCount': 1,\n",
       "        'InstanceType': 'm5.xlarge'},\n",
       "       {'InstanceRole': 'CORE',\n",
       "        'InstanceCount': 2,\n",
       "        'InstanceType': 'g5.xlarge'}]},\n",
       "     'BootstrapActions': [{'Name': 'Install packages',\n",
       "       'ScriptBootstrapAction': {'Path': 's3://emr-test-117019135262/xldemo/service-catalog/bootstrap-emr-script.sh',\n",
       "        'Args': ['s3://emr-test-117019135262/xldemo/service-catalog/requirements-numpy.txt']}},\n",
       "      {'Name': 'RAPIDS bootstrap',\n",
       "       'ScriptBootstrapAction': {'Path': 's3://emr-test-117019135262/xldemo/service-catalog/bootstrap-rapids-script.sh'}}],\n",
       "     'ReleaseLabel': 'emr-7.3.0',\n",
       "     'JobFlowRole': 'arn:aws:iam::117019135262:instance-profile/EMR_EC2_DefaultRole',\n",
       "     'ServiceRole': 'arn:aws:iam::117019135262:role/EMR_DefaultRole',\n",
       "     'LogUri': 's3://aws-logs-117019135262-ap-southeast-3/elasticmapreduce'}},\n",
       "   'DisplayName': 'Preprocess',\n",
       "   'Description': 'preprocess data for XGBoost'}]}"
      ]
     },
     "execution_count": 11,
     "metadata": {},
     "output_type": "execute_result"
    }
   ],
   "source": [
    "definition = json.loads(pipeline.definition())\n",
    "definition\n"
   ]
  },
  {
   "cell_type": "code",
   "execution_count": null,
   "id": "909095ea-60cd-457d-963a-956100bbf061",
   "metadata": {},
   "outputs": [],
   "source": [
    "pipeline.upsert(role_arn=role)\n"
   ]
  },
  {
   "cell_type": "code",
   "execution_count": 12,
   "id": "78cb40dd-b6ee-4bf6-91a5-686edb84d8b4",
   "metadata": {},
   "outputs": [],
   "source": [
    "execution = pipeline.start()\n"
   ]
  },
  {
   "cell_type": "code",
   "execution_count": null,
   "id": "ff94288b-3390-4ad0-834a-a26cbfbf1dcb",
   "metadata": {},
   "outputs": [],
   "source": [
    "execution.wait()\n"
   ]
  },
  {
   "cell_type": "code",
   "execution_count": 18,
   "id": "688193bd-f2fc-4a5b-8493-9d78633b2a13",
   "metadata": {},
   "outputs": [
    {
     "data": {
      "text/plain": [
       "{'PipelineArn': 'arn:aws:sagemaker:ap-southeast-3:117019135262:pipeline/MyEMRStepPipeline',\n",
       " 'PipelineExecutionArn': 'arn:aws:sagemaker:ap-southeast-3:117019135262:pipeline/MyEMRStepPipeline/execution/6rib0w45wsxm',\n",
       " 'PipelineExecutionDisplayName': 'execution-1731397501288',\n",
       " 'PipelineExecutionStatus': 'Succeeded',\n",
       " 'PipelineExperimentConfig': {'ExperimentName': 'myemrsteppipeline',\n",
       "  'TrialName': '6rib0w45wsxm'},\n",
       " 'CreationTime': datetime.datetime(2024, 11, 12, 7, 45, 1, 243000, tzinfo=tzlocal()),\n",
       " 'LastModifiedTime': datetime.datetime(2024, 11, 12, 8, 0, 33, 776000, tzinfo=tzlocal()),\n",
       " 'CreatedBy': {'UserProfileArn': 'arn:aws:sagemaker:ap-southeast-3:117019135262:user-profile/d-i1nji19a0nxy/studio-user',\n",
       "  'UserProfileName': 'studio-user',\n",
       "  'DomainId': 'd-i1nji19a0nxy',\n",
       "  'IamIdentity': {'Arn': 'arn:aws:sts::117019135262:assumed-role/SMEMR-EMR-SageMakerExecutionRole/SageMaker',\n",
       "   'PrincipalId': 'AROARWPXCJUPIGXUMCZKV:SageMaker'}},\n",
       " 'LastModifiedBy': {'UserProfileArn': 'arn:aws:sagemaker:ap-southeast-3:117019135262:user-profile/d-i1nji19a0nxy/studio-user',\n",
       "  'UserProfileName': 'studio-user',\n",
       "  'DomainId': 'd-i1nji19a0nxy',\n",
       "  'IamIdentity': {'Arn': 'arn:aws:sts::117019135262:assumed-role/SMEMR-EMR-SageMakerExecutionRole/SageMaker',\n",
       "   'PrincipalId': 'AROARWPXCJUPIGXUMCZKV:SageMaker'}},\n",
       " 'ResponseMetadata': {'RequestId': '19afb55c-41f1-4279-99ae-ba28c7ca3586',\n",
       "  'HTTPStatusCode': 200,\n",
       "  'HTTPHeaders': {'x-amzn-requestid': '19afb55c-41f1-4279-99ae-ba28c7ca3586',\n",
       "   'content-type': 'application/x-amz-json-1.1',\n",
       "   'content-length': '1138',\n",
       "   'date': 'Tue, 12 Nov 2024 10:50:36 GMT'},\n",
       "  'RetryAttempts': 0}}"
      ]
     },
     "execution_count": 18,
     "metadata": {},
     "output_type": "execute_result"
    }
   ],
   "source": [
    "execution.describe()"
   ]
  },
  {
   "cell_type": "code",
   "execution_count": null,
   "id": "067b2dc1-54eb-4712-a403-9190723bfbb3",
   "metadata": {},
   "outputs": [],
   "source": []
  }
 ],
 "metadata": {
  "kernelspec": {
   "display_name": "Python 3 (ipykernel)",
   "language": "python",
   "name": "python3"
  },
  "language_info": {
   "codemirror_mode": {
    "name": "ipython",
    "version": 3
   },
   "file_extension": ".py",
   "mimetype": "text/x-python",
   "name": "python",
   "nbconvert_exporter": "python",
   "pygments_lexer": "ipython3",
   "version": "3.11.9"
  }
 },
 "nbformat": 4,
 "nbformat_minor": 5
}
