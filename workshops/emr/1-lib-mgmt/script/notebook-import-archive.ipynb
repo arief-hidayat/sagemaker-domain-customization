{
 "cells": [
  {
   "cell_type": "code",
   "execution_count": 1,
   "id": "fa4fed99-cf83-40b2-a878-f3ff0c115180",
   "metadata": {},
   "outputs": [
    {
     "name": "stdout",
     "output_type": "stream",
     "text": [
      "Successfully read emr cluster(j-1DTEH1A9FQ8AB) details\n",
      "Initiating EMR connection..\n",
      "Starting Spark application\n"
     ]
    },
    {
     "data": {
      "text/html": [
       "<table>\n",
       "<tr><th>ID</th><th>YARN Application ID</th><th>Kind</th><th>State</th><th>Spark UI</th><th>Driver log</th><th>User</th><th>Current session?</th></tr><tr><td>0</td><td>application_1732094423681_0001</td><td>pyspark</td><td>idle</td><td><a target=\"_blank\" href=\"http://ip-10-0-10-54.ap-southeast-3.compute.internal:20888/proxy/application_1732094423681_0001/\">Link</a></td><td><a target=\"_blank\" href=\"http://ip-10-0-10-230.ap-southeast-3.compute.internal:8042/node/containerlogs/container_1732094423681_0001_01_000001/livy\">Link</a></td><td>None</td><td>✔</td></tr></table>"
      ],
      "text/plain": [
       "<IPython.core.display.HTML object>"
      ]
     },
     "metadata": {},
     "output_type": "display_data"
    },
    {
     "data": {
      "application/vnd.jupyter.widget-view+json": {
       "model_id": "",
       "version_major": 2,
       "version_minor": 0
      },
      "text/plain": [
       "FloatProgress(value=0.0, bar_style='info', description='Progress:', layout=Layout(height='25px', width='50%'),…"
      ]
     },
     "metadata": {},
     "output_type": "display_data"
    },
    {
     "name": "stdout",
     "output_type": "stream",
     "text": [
      "SparkSession available as 'spark'.\n",
      "{\"namespace\": \"sagemaker-analytics\", \"cluster_id\": \"j-1DTEH1A9FQ8AB\", \"error_message\": null, \"success\": true, \"service\": \"emr\", \"operation\": \"connect\"}\n"
     ]
    }
   ],
   "source": [
    "%load_ext sagemaker_studio_analytics_extension.magics\n",
    "%sm_analytics emr connect --verify-certificate False --cluster-id j-1DTEH1A9FQ8AB --auth-type None --language python  "
   ]
  },
  {
   "cell_type": "code",
   "execution_count": 2,
   "id": "05160f5d-5dce-4018-adfb-a17f750e49c2",
   "metadata": {},
   "outputs": [
    {
     "name": "stdout",
     "output_type": "stream",
     "text": [
      "Starting Spark application\n"
     ]
    },
    {
     "data": {
      "text/html": [
       "<table>\n",
       "<tr><th>ID</th><th>YARN Application ID</th><th>Kind</th><th>State</th><th>Spark UI</th><th>Driver log</th><th>User</th><th>Current session?</th></tr><tr><td>1</td><td>application_1732094423681_0002</td><td>pyspark</td><td>idle</td><td><a target=\"_blank\" href=\"http://ip-10-0-10-54.ap-southeast-3.compute.internal:20888/proxy/application_1732094423681_0002/\">Link</a></td><td><a target=\"_blank\" href=\"http://ip-10-0-10-149.ap-southeast-3.compute.internal:8042/node/containerlogs/container_1732094423681_0002_01_000001/livy\">Link</a></td><td>None</td><td>✔</td></tr></table>"
      ],
      "text/plain": [
       "<IPython.core.display.HTML object>"
      ]
     },
     "metadata": {},
     "output_type": "display_data"
    },
    {
     "data": {
      "application/vnd.jupyter.widget-view+json": {
       "model_id": "",
       "version_major": 2,
       "version_minor": 0
      },
      "text/plain": [
       "FloatProgress(value=0.0, bar_style='info', description='Progress:', layout=Layout(height='25px', width='50%'),…"
      ]
     },
     "metadata": {},
     "output_type": "display_data"
    },
    {
     "name": "stdout",
     "output_type": "stream",
     "text": [
      "SparkSession available as 'spark'.\n"
     ]
    },
    {
     "data": {
      "text/html": [
       "Current session configs: <tt>{'conf': {'spark.yarn.appMasterEnv.PYSPARK_PYTHON': './environment/bin/python', 'spark.yarn.appMasterEnv.PYSPARK_DRIVER_PYTHON': './environment/bin/python', 'spark.executorEnv.PYSPARK_PYTHON': './environment/bin/python', 'spark.yarn.dist.archives': 's3://emr-test-117019135262/xldemo/archives/conda-py39-env.tar.gz#environment'}, 'kind': 'pyspark'}</tt><br>"
      ],
      "text/plain": [
       "<IPython.core.display.HTML object>"
      ]
     },
     "metadata": {},
     "output_type": "display_data"
    },
    {
     "data": {
      "text/html": [
       "<table>\n",
       "<tr><th>ID</th><th>YARN Application ID</th><th>Kind</th><th>State</th><th>Spark UI</th><th>Driver log</th><th>User</th><th>Current session?</th></tr><tr><td>1</td><td>application_1732094423681_0002</td><td>pyspark</td><td>idle</td><td><a target=\"_blank\" href=\"http://ip-10-0-10-54.ap-southeast-3.compute.internal:20888/proxy/application_1732094423681_0002/\">Link</a></td><td><a target=\"_blank\" href=\"http://ip-10-0-10-149.ap-southeast-3.compute.internal:8042/node/containerlogs/container_1732094423681_0002_01_000001/livy\">Link</a></td><td>None</td><td>✔</td></tr></table>"
      ],
      "text/plain": [
       "<IPython.core.display.HTML object>"
      ]
     },
     "metadata": {},
     "output_type": "display_data"
    }
   ],
   "source": [
    "%%configure -f\n",
    "\n",
    "{\n",
    "    \"conf\":{\n",
    "        \"spark.yarn.appMasterEnv.PYSPARK_PYTHON\": \"./environment/bin/python\",\n",
    "        \"spark.yarn.appMasterEnv.PYSPARK_DRIVER_PYTHON\": \"./environment/bin/python\",\n",
    "        \"spark.executorEnv.PYSPARK_PYTHON\": \"./environment/bin/python\",\n",
    "        \"spark.yarn.dist.archives\":\"s3://emr-test-117019135262/xldemo/archives/conda-py39-env.tar.gz#environment\"\n",
    "    }\n",
    "}"
   ]
  },
  {
   "cell_type": "code",
   "execution_count": 4,
   "id": "dd85442e-3cae-4eea-85fd-cb927d4e39ee",
   "metadata": {},
   "outputs": [
    {
     "data": {
      "application/vnd.jupyter.widget-view+json": {
       "model_id": "",
       "version_major": 2,
       "version_minor": 0
      },
      "text/plain": [
       "FloatProgress(value=0.0, bar_style='info', description='Progress:', layout=Layout(height='25px', width='50%'),…"
      ]
     },
     "metadata": {},
     "output_type": "display_data"
    },
    {
     "name": "stdout",
     "output_type": "stream",
     "text": [
      "3.9.20 | packaged by conda-forge | (main, Sep 30 2024, 17:49:10) \n",
      "[GCC 13.3.0]\n",
      "/mnt/yarn/usercache/livy/appcache/application_1732094423681_0002/container_1732094423681_0002_01_000001/environment/bin/python"
     ]
    }
   ],
   "source": [
    "import sys\n",
    "print(sys.version)\n",
    "print(sys.executable)"
   ]
  },
  {
   "cell_type": "code",
   "execution_count": 5,
   "id": "b2ee8e74-9291-4d3f-b79c-7c0048a9276c",
   "metadata": {},
   "outputs": [
    {
     "data": {
      "text/html": [
       "Current session configs: <tt>{'conf': {'spark.yarn.appMasterEnv.PYSPARK_PYTHON': './environment/bin/python', 'spark.yarn.appMasterEnv.PYSPARK_DRIVER_PYTHON': './environment/bin/python', 'spark.executorEnv.PYSPARK_PYTHON': './environment/bin/python', 'spark.yarn.dist.archives': 's3://emr-test-117019135262/xldemo/archives/conda-py39-env.tar.gz#environment'}, 'kind': 'pyspark'}</tt><br>"
      ],
      "text/plain": [
       "<IPython.core.display.HTML object>"
      ]
     },
     "metadata": {},
     "output_type": "display_data"
    },
    {
     "data": {
      "text/html": [
       "<table>\n",
       "<tr><th>ID</th><th>YARN Application ID</th><th>Kind</th><th>State</th><th>Spark UI</th><th>Driver log</th><th>User</th><th>Current session?</th></tr><tr><td>1</td><td>application_1732094423681_0002</td><td>pyspark</td><td>idle</td><td><a target=\"_blank\" href=\"http://ip-10-0-10-54.ap-southeast-3.compute.internal:20888/proxy/application_1732094423681_0002/\">Link</a></td><td><a target=\"_blank\" href=\"http://ip-10-0-10-149.ap-southeast-3.compute.internal:8042/node/containerlogs/container_1732094423681_0002_01_000001/livy\">Link</a></td><td>None</td><td>✔</td></tr></table>"
      ],
      "text/plain": [
       "<IPython.core.display.HTML object>"
      ]
     },
     "metadata": {},
     "output_type": "display_data"
    }
   ],
   "source": [
    "%%info"
   ]
  },
  {
   "cell_type": "code",
   "execution_count": null,
   "id": "93959f66-c80b-463b-abf6-83a4f5de0008",
   "metadata": {},
   "outputs": [],
   "source": [
    "import logging\n",
    "logger = logging.getLogger()\n",
    "\n",
    "# logging set up \n",
    "log_format = logging.Formatter('%(asctime)-15s %(levelname)-2s %(message)s')\n",
    "sh = logging.StreamHandler()\n",
    "sh.setFormatter(log_format)\n",
    "\n",
    "# add the handler\n",
    "logger.addHandler(sh)\n",
    "logger.setLevel(logging.INFO)"
   ]
  },
  {
   "cell_type": "markdown",
   "id": "801cc8ee-82d0-4267-88d0-f7ad236235ae",
   "metadata": {},
   "source": [
    "## Start notebook"
   ]
  },
  {
   "cell_type": "code",
   "execution_count": 5,
   "id": "eb41da71-56f7-445d-8887-0ef79bc4f145",
   "metadata": {},
   "outputs": [
    {
     "data": {
      "application/vnd.jupyter.widget-view+json": {
       "model_id": "",
       "version_major": 2,
       "version_minor": 0
      },
      "text/plain": [
       "FloatProgress(value=0.0, bar_style='info', description='Progress:', layout=Layout(height='25px', width='50%'),…"
      ]
     },
     "metadata": {},
     "output_type": "display_data"
    }
   ],
   "source": [
    "df_examples = spark.read.parquet('s3://data-apsoutheast3-117019135262/esci-dataset/shopping_queries_dataset_examples.parquet')\n",
    "df_products = spark.read.parquet('s3://data-apsoutheast3-117019135262/esci-dataset/shopping_queries_dataset_products.parquet')\n",
    "\n",
    "df = df_examples.join(df_products, on=['product_locale', 'product_id'])"
   ]
  },
  {
   "cell_type": "code",
   "execution_count": 6,
   "id": "19de8f9c-447c-4926-a8b2-585649989f12",
   "metadata": {},
   "outputs": [
    {
     "data": {
      "application/vnd.jupyter.widget-view+json": {
       "model_id": "",
       "version_major": 2,
       "version_minor": 0
      },
      "text/plain": [
       "FloatProgress(value=0.0, bar_style='info', description='Progress:', layout=Layout(height='25px', width='50%'),…"
      ]
     },
     "metadata": {},
     "output_type": "display_data"
    },
    {
     "name": "stdout",
     "output_type": "stream",
     "text": [
      "Total Columns: 15\n",
      "root\n",
      " |-- product_locale: string (nullable = true)\n",
      " |-- product_id: string (nullable = true)\n",
      " |-- example_id: long (nullable = true)\n",
      " |-- query: string (nullable = true)\n",
      " |-- query_id: long (nullable = true)\n",
      " |-- esci_label: string (nullable = true)\n",
      " |-- small_version: long (nullable = true)\n",
      " |-- large_version: long (nullable = true)\n",
      " |-- split: string (nullable = true)\n",
      " |-- __index_level_0__: long (nullable = true)\n",
      " |-- product_title: string (nullable = true)\n",
      " |-- product_description: string (nullable = true)\n",
      " |-- product_bullet_point: string (nullable = true)\n",
      " |-- product_brand: string (nullable = true)\n",
      " |-- product_color: string (nullable = true)"
     ]
    }
   ],
   "source": [
    "# Total columns\n",
    "print(f'Total Columns: {len(df.dtypes)}')\n",
    "df.printSchema()"
   ]
  },
  {
   "cell_type": "markdown",
   "id": "db8b2167-bb9c-49b2-a8c3-705fe9204290",
   "metadata": {},
   "source": [
    "### Run plotting in the EMR cluster"
   ]
  },
  {
   "cell_type": "code",
   "execution_count": 7,
   "id": "ea787e70-e210-499f-8d13-82a50249968f",
   "metadata": {},
   "outputs": [
    {
     "data": {
      "application/vnd.jupyter.widget-view+json": {
       "model_id": "",
       "version_major": 2,
       "version_minor": 0
      },
      "text/plain": [
       "FloatProgress(value=0.0, bar_style='info', description='Progress:', layout=Layout(height='25px', width='50%'),…"
      ]
     },
     "metadata": {},
     "output_type": "display_data"
    }
   ],
   "source": [
    "import matplotlib.pyplot as plt\n",
    "\n",
    "# Assuming df is your DataFrame and you've already created num_of_products_by_locale\n",
    "num_of_products_by_locale = df.groupBy('product_locale').count().orderBy('product_locale').toPandas()\n",
    "\n",
    "plt.figure(figsize=(8, 6))\n",
    "bars = plt.bar(range(len(num_of_products_by_locale)), num_of_products_by_locale['count'], color='#bc5090')\n",
    "plt.title('Number of products by locale')\n",
    "plt.xlabel('Locale')\n",
    "plt.ylabel('Number of products')\n",
    "\n",
    "# Set the x-tick labels to the locale values\n",
    "plt.xticks(range(len(num_of_products_by_locale)), num_of_products_by_locale['product_locale'], rotation=70)\n",
    "\n",
    "# Add value labels on top of each bar\n",
    "for bar in bars:\n",
    "    height = bar.get_height()\n",
    "\n",
    "plt.tight_layout()"
   ]
  },
  {
   "cell_type": "markdown",
   "id": "71885820-e431-4f33-bb75-df9998208fa1",
   "metadata": {},
   "source": [
    "### Then, display it in your notebook"
   ]
  },
  {
   "cell_type": "code",
   "execution_count": 8,
   "id": "9c2251e3-3cd4-4317-ae61-3a1d5f3a08df",
   "metadata": {},
   "outputs": [
    {
     "data": {
      "application/vnd.jupyter.widget-view+json": {
       "model_id": "",
       "version_major": 2,
       "version_minor": 0
      },
      "text/plain": [
       "FloatProgress(value=0.0, bar_style='info', description='Progress:', layout=Layout(height='25px', width='50%'),…"
      ]
     },
     "metadata": {},
     "output_type": "display_data"
    },
    {
     "data": {
      "image/png": "[encoded data removed]",
      "text/plain": [
       "<IPython.core.display.Image object>"
      ]
     },
     "metadata": {},
     "output_type": "display_data"
    }
   ],
   "source": [
    "%matplot plt"
   ]
  },
  {
   "cell_type": "markdown",
   "id": "1cf4b5d9-3dda-410c-a4c2-4617e934bc4b",
   "metadata": {},
   "source": [
    "## Run another plot in EMR Cluster"
   ]
  },
  {
   "cell_type": "code",
   "execution_count": 9,
   "id": "f1f19fb6-34ea-44f8-bd0a-c9b89362fe81",
   "metadata": {},
   "outputs": [
    {
     "data": {
      "application/vnd.jupyter.widget-view+json": {
       "model_id": "",
       "version_major": 2,
       "version_minor": 0
      },
      "text/plain": [
       "FloatProgress(value=0.0, bar_style='info', description='Progress:', layout=Layout(height='25px', width='50%'),…"
      ]
     },
     "metadata": {},
     "output_type": "display_data"
    },
    {
     "name": "stdout",
     "output_type": "stream",
     "text": [
      "Text(0.5, 1.0, 'Distribution of ESCI Labels')"
     ]
    }
   ],
   "source": [
    "# Distribution of ESCI labels\n",
    "esci_label_dist = df.groupBy('esci_label').count().orderBy('count').toPandas()\n",
    "\n",
    "plt.clf()\n",
    "esci_label_dist.plot(kind='pie', labels='esci_label',y='count', colors=['#00876c', '#89c079', '#fff392', '#fc9e5a'], figsize=(8,6))\n",
    "plt.title('Distribution of ESCI Labels')"
   ]
  },
  {
   "cell_type": "markdown",
   "id": "d260aebb-6f21-4566-9815-8a7378998640",
   "metadata": {},
   "source": [
    "### Then, display it in your notebook"
   ]
  },
  {
   "cell_type": "code",
   "execution_count": 10,
   "id": "88b11de6-824c-4cb7-988a-2d6084ac0ed9",
   "metadata": {},
   "outputs": [
    {
     "data": {
      "application/vnd.jupyter.widget-view+json": {
       "model_id": "",
       "version_major": 2,
       "version_minor": 0
      },
      "text/plain": [
       "FloatProgress(value=0.0, bar_style='info', description='Progress:', layout=Layout(height='25px', width='50%'),…"
      ]
     },
     "metadata": {},
     "output_type": "display_data"
    },
    {
     "data": {
      "image/png": "[encoded data removed]",
      "text/plain": [
       "<IPython.core.display.Image object>"
      ]
     },
     "metadata": {},
     "output_type": "display_data"
    }
   ],
   "source": [
    "%matplot plt"
   ]
  },
  {
   "cell_type": "markdown",
   "id": "df6d7a5b-4a35-44f8-80f6-dfddbad030ab",
   "metadata": {},
   "source": [
    "### Test Error Message"
   ]
  },
  {
   "cell_type": "markdown",
   "id": "6c765ff5-79e2-4dd7-a0bc-246909471b03",
   "metadata": {},
   "source": [
    "Without logger"
   ]
  },
  {
   "cell_type": "code",
   "execution_count": null,
   "id": "18c389ce-058e-4740-969b-2ff628872c45",
   "metadata": {},
   "outputs": [],
   "source": [
    "\n",
    "# Distribution of ESCI labels\n",
    "esci_label_dist = df.groupBy('esci_label').count().orderBy('count').toPandas()\n",
    "\n",
    "plt.clf()\n",
    "esci_label_dist.plot(kind='pie', labels='esci_label',y='count', colors=['#00876c', '#89c079', '#fff392', '#fc9e5a'], figsize=(8,6))\n",
    "plat.title('Distribution of ESCI Labels')\n"
   ]
  },
  {
   "cell_type": "markdown",
   "id": "7cc458b9-f60e-4e39-aee5-cf3b58e63ae7",
   "metadata": {},
   "source": [
    "With logger"
   ]
  },
  {
   "cell_type": "code",
   "execution_count": null,
   "id": "5fab6dac-9d84-4786-b26f-21f26acc56d5",
   "metadata": {},
   "outputs": [],
   "source": [
    "try:\n",
    "    # Distribution of ESCI labels\n",
    "    esci_label_dist = df.groupBy('esci_label').count().orderBy('count').toPandas()\n",
    "    \n",
    "    plt.clf()\n",
    "    esci_label_dist.plot(kind='pie', labels='esci_label',y='count', colors=['#00876c', '#89c079', '#fff392', '#fc9e5a'], figsize=(8,6))\n",
    "    plat.title('Distribution of ESCI Labels')\n",
    "except Exception as e: \n",
    "    logger.error(e)"
   ]
  },
  {
   "cell_type": "markdown",
   "id": "a9a9632f-964f-4fda-9c20-e3f526eb46f2",
   "metadata": {},
   "source": [
    "## Stop"
   ]
  },
  {
   "cell_type": "code",
   "execution_count": null,
   "id": "a17e6d33-aceb-45f5-aef7-05a5cb60f5ef",
   "metadata": {},
   "outputs": [],
   "source": [
    "%%spark stop"
   ]
  },
  {
   "cell_type": "code",
   "execution_count": null,
   "id": "3c16a60b-dbc3-43a4-b4c4-993dcaa857ff",
   "metadata": {},
   "outputs": [],
   "source": []
  }
 ],
 "metadata": {
  "kernelspec": {
   "display_name": "SparkMagic PySpark",
   "language": "python",
   "name": "pysparkkernel"
  },
  "language_info": {
   "codemirror_mode": {
    "name": "python",
    "version": 3
   },
   "file_extension": ".py",
   "mimetype": "text/x-python",
   "name": "pyspark",
   "pygments_lexer": "python3"
  }
 },
 "nbformat": 4,
 "nbformat_minor": 5
}
